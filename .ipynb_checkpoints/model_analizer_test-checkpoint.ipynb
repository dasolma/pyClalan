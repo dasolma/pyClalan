{
 "metadata": {
  "name": "",
  "signature": "sha256:886a5f1ab78abda315777777ffec1c49beaaaf2efbae5bc980a0b8f3ec27e8d5"
 },
 "nbformat": 3,
 "nbformat_minor": 0,
 "worksheets": [
  {
   "cells": [
    {
     "cell_type": "code",
     "collapsed": false,
     "input": [
      "import warnings\n",
      "warnings.filterwarnings('ignore')\n",
      "\n",
      "from prepro import UserAndLinkReplacer, Steammer\n",
      "from modelanalizer import ModelAnalizer\n",
      "from sklearn.naive_bayes import MultinomialNB\n",
      "from sklearn.svm import SVC, LinearSVC\n",
      "from sklearn.linear_model import SGDClassifier\n",
      "from sklearn.linear_model import LogisticRegression\n",
      "from sklearn.ensemble import RandomForestClassifier\n",
      "from sklearn.feature_extraction.text import TfidfTransformer, CountVectorizer\n",
      "#from vectorizers import LinguisticAndPolarity, TfidfLinguisticAndPolarity\n",
      "from pipelines import *\n",
      "\n",
      "\n",
      "transformers = [\n",
      "      #[ None, ('ual', UserAndLinkReplacer() ) ],\n",
      "      #[ None, ('stem', Steammer())],\n",
      "      [ [('vect', CountVectorizer()) ],\n",
      "        [('vect', CountVectorizer()), ('tfidf', TfidfTransformer())],\n",
      "        #('ling', LinguisticAndPolarity()),\n",
      "        #('tfidf+ling', TfidfLinguisticAndPolarity()),\n",
      "      ]\n",
      "     ]\n",
      "\n",
      "classifiers = [('mNB', MultinomialNB()),\n",
      "               ('svm', LinearSVC()),\n",
      "               ('LR', LogisticRegression()),\n",
      "               ('SGD', SGDClassifier('perceptron')),\n",
      "               ('Random forest', RandomForestClassifier())\n",
      "              ]\n",
      "\n",
      "params = {#'vect__stop_words':['english', None],\n",
      "          'vect__ngram_range':[(1,1),(1,2),(1,3)],\n",
      "          'tfidf__smooth_idf':[True, False],\n",
      "          'tfidf__use_idf': [True, False],\n",
      "          'tfidf__sublinear_tf': [True, False],\n",
      "          'mNB__alpha':[0, 0.1, 0.5, 1.0],\n",
      "          'svm__C':[0.1, 10, 100],\n",
      "          'tfidf+ling__sublinear_tf': [True, False],\n",
      "          #'tfidf+ling__stop_words':['english', None],\n",
      "          'tfidf+ling__ngram_range':[(1,1),(1,2),(1,3)],\n",
      "          'tfidf+ling__smooth_idf':[True, False],\n",
      "          'tfidf+ling__use_idf': [True, False],\n",
      "          }\n",
      "\n",
      "pipelines =  name_pipelines(compose_pipelines(transformers, classifiers))\n",
      "classifier = ModelAnalizer(pipelines, params)\n"
     ],
     "language": "python",
     "metadata": {},
     "outputs": [],
     "prompt_number": 1
    },
    {
     "cell_type": "code",
     "collapsed": false,
     "input": [
      "from dataretriever import *\n",
      "\n",
      "languages = [\"es\", \"pl\", \"be\", \"it\"]\n",
      "data_train,target_train,data_test,target_test = get_data(languages,train_words=9000, test_words=1000)\n",
      "print len(data_train)\n",
      "print len(data_test)"
     ],
     "language": "python",
     "metadata": {},
     "outputs": [
      {
       "output_type": "stream",
       "stream": "stdout",
       "text": [
        "6955\n",
        "885\n"
       ]
      }
     ],
     "prompt_number": 2
    },
    {
     "cell_type": "code",
     "collapsed": false,
     "input": [
      "target_train = [x if x == 0 else 1 for x in target_train]\n",
      "target_test = [x if x == 0 else 1 for x in target_test]"
     ],
     "language": "python",
     "metadata": {},
     "outputs": [],
     "prompt_number": 3
    },
    {
     "cell_type": "code",
     "collapsed": false,
     "input": [
      "classifier.fit(data_train,target_train)\n",
      "classifier.score(data_test,target_test)"
     ],
     "language": "python",
     "metadata": {},
     "outputs": [
      {
       "output_type": "stream",
       "stream": "stdout",
       "text": [
        "Searching the best parameters set:\n",
        "\tvect->mNB:{'vect__ngram_range': (1, 2), 'vect__stop_words': None, 'mNB__alpha': 0}"
       ]
      },
      {
       "output_type": "stream",
       "stream": "stdout",
       "text": [
        "\n",
        "\tvect->svm:{'vect__ngram_range': (1, 1), 'svm__C': 10, 'vect__stop_words': None}"
       ]
      },
      {
       "output_type": "stream",
       "stream": "stdout",
       "text": [
        "\n",
        "\tvect->LR:{'vect__ngram_range': (1, 1), 'vect__stop_words': None}"
       ]
      },
      {
       "output_type": "stream",
       "stream": "stdout",
       "text": [
        "\n",
        "\tvect->SGD:{'vect__ngram_range': (1, 3), 'vect__stop_words': 'english'}"
       ]
      }
     ]
    },
    {
     "cell_type": "code",
     "collapsed": false,
     "input": [
      "pred = classifier.best_classifier.predict(data_test)"
     ],
     "language": "python",
     "metadata": {},
     "outputs": []
    },
    {
     "cell_type": "code",
     "collapsed": false,
     "input": [
      "from sklearn.metrics import confusion_matrix\n",
      "print confusion_matrix(pred, target_test)"
     ],
     "language": "python",
     "metadata": {},
     "outputs": [
      {
       "output_type": "stream",
       "stream": "stdout",
       "text": [
        "[[ 99   3   1  19]\n",
        " [  5 183  36   7]\n",
        " [  0   0 117   0]\n",
        " [  1   1   0 111]]\n"
       ]
      }
     ],
     "prompt_number": 12
    },
    {
     "cell_type": "code",
     "collapsed": false,
     "input": [
      "from sklearn.metrics import confusion_matrix\n",
      "pred = classifier.best_classifier.predict(data_train)\n",
      "print confusion_matrix(pred, target_train)"
     ],
     "language": "python",
     "metadata": {},
     "outputs": [
      {
       "output_type": "stream",
       "stream": "stdout",
       "text": [
        "[[256   0   0   0]\n",
        " [  6 224   0   1]\n",
        " [  0   0  92   0]\n",
        " [  0   0   0 185]]\n"
       ]
      }
     ],
     "prompt_number": 13
    },
    {
     "cell_type": "code",
     "collapsed": false,
     "input": [
      "languages = [\"es\", \"pl\", \"be\", \"it\"]\n",
      "print classifier.best_classifier.predict([\"Que hace pich\u00e1\", \"catalan\"])"
     ],
     "language": "python",
     "metadata": {},
     "outputs": [
      {
       "output_type": "stream",
       "stream": "stdout",
       "text": [
        "[0 1]\n"
       ]
      }
     ],
     "prompt_number": 17
    },
    {
     "cell_type": "code",
     "collapsed": false,
     "input": [],
     "language": "python",
     "metadata": {},
     "outputs": []
    }
   ],
   "metadata": {}
  }
 ]
}